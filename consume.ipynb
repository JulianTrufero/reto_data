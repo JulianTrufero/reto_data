{
 "cells": [
  {
   "cell_type": "code",
   "execution_count": 99,
   "metadata": {},
   "outputs": [],
   "source": [
    "import pandas as pd\n",
    "import numpy as np\n",
    "import seaborn as sns\n",
    "import statsmodels.api as sm"
   ]
  },
  {
   "cell_type": "code",
   "execution_count": 81,
   "metadata": {},
   "outputs": [],
   "source": [
    "consume_data = pd.read_csv('/home/julian/Cursos/Ironhack/Career/reto_data/consume_data.csv')"
   ]
  },
  {
   "cell_type": "markdown",
   "metadata": {},
   "source": [
    "### EDA"
   ]
  },
  {
   "cell_type": "code",
   "execution_count": 6,
   "metadata": {},
   "outputs": [
    {
     "data": {
      "text/plain": [
       "(376, 11)"
      ]
     },
     "execution_count": 6,
     "metadata": {},
     "output_type": "execute_result"
    }
   ],
   "source": [
    "consume_data.shape"
   ]
  },
  {
   "cell_type": "code",
   "execution_count": 26,
   "metadata": {},
   "outputs": [
    {
     "name": "stdout",
     "output_type": "stream",
     "text": [
      "<class 'pandas.core.frame.DataFrame'>\n",
      "RangeIndex: 376 entries, 0 to 375\n",
      "Data columns (total 11 columns):\n",
      " #   Column        Non-Null Count  Dtype  \n",
      "---  ------        --------------  -----  \n",
      " 0   consume_id    376 non-null    int64  \n",
      " 1   distance      376 non-null    float64\n",
      " 2   consume       376 non-null    float64\n",
      " 3   speed         376 non-null    int64  \n",
      " 4   temp_inside   376 non-null    float64\n",
      " 5   temp_outside  376 non-null    int64  \n",
      " 6   gas_type      376 non-null    object \n",
      " 7   AC            376 non-null    int64  \n",
      " 8   rain          376 non-null    int64  \n",
      " 9   sun           376 non-null    int64  \n",
      " 10  snow          376 non-null    int64  \n",
      "dtypes: float64(3), int64(7), object(1)\n",
      "memory usage: 32.4+ KB\n"
     ]
    }
   ],
   "source": [
    "consume_data.info()"
   ]
  },
  {
   "cell_type": "code",
   "execution_count": 12,
   "metadata": {},
   "outputs": [
    {
     "data": {
      "text/plain": [
       "consume_id  distance  consume  speed  temp_inside  temp_outside  gas_type  AC     rain   sun    snow \n",
       "False       False     False    False  False        False         False     False  False  False  False    376\n",
       "dtype: int64"
      ]
     },
     "execution_count": 12,
     "metadata": {},
     "output_type": "execute_result"
    }
   ],
   "source": [
    "consume_data.isna().value_counts()"
   ]
  },
  {
   "cell_type": "code",
   "execution_count": 23,
   "metadata": {},
   "outputs": [
    {
     "data": {
      "text/plain": [
       "SP98    219\n",
       "E10     157\n",
       "Name: gas_type, dtype: int64"
      ]
     },
     "execution_count": 23,
     "metadata": {},
     "output_type": "execute_result"
    }
   ],
   "source": [
    "consume_data.gas_type.value_counts()"
   ]
  },
  {
   "cell_type": "code",
   "execution_count": 82,
   "metadata": {},
   "outputs": [],
   "source": [
    "consume_data = pd.get_dummies(consume_data, columns=['gas_type'], drop_first=True)"
   ]
  },
  {
   "cell_type": "code",
   "execution_count": 83,
   "metadata": {},
   "outputs": [],
   "source": [
    "consume_data.drop(columns=['consume_id'], inplace=True)"
   ]
  },
  {
   "cell_type": "code",
   "execution_count": 34,
   "metadata": {},
   "outputs": [
    {
     "data": {
      "text/html": [
       "<div>\n",
       "<style scoped>\n",
       "    .dataframe tbody tr th:only-of-type {\n",
       "        vertical-align: middle;\n",
       "    }\n",
       "\n",
       "    .dataframe tbody tr th {\n",
       "        vertical-align: top;\n",
       "    }\n",
       "\n",
       "    .dataframe thead th {\n",
       "        text-align: right;\n",
       "    }\n",
       "</style>\n",
       "<table border=\"1\" class=\"dataframe\">\n",
       "  <thead>\n",
       "    <tr style=\"text-align: right;\">\n",
       "      <th></th>\n",
       "      <th>distance</th>\n",
       "      <th>consume</th>\n",
       "      <th>speed</th>\n",
       "      <th>temp_inside</th>\n",
       "      <th>temp_outside</th>\n",
       "      <th>AC</th>\n",
       "      <th>rain</th>\n",
       "      <th>sun</th>\n",
       "      <th>snow</th>\n",
       "      <th>gas_type_SP98</th>\n",
       "    </tr>\n",
       "  </thead>\n",
       "  <tbody>\n",
       "    <tr>\n",
       "      <th>0</th>\n",
       "      <td>28.0</td>\n",
       "      <td>5.0</td>\n",
       "      <td>26</td>\n",
       "      <td>21.5</td>\n",
       "      <td>12</td>\n",
       "      <td>0</td>\n",
       "      <td>0</td>\n",
       "      <td>0</td>\n",
       "      <td>0</td>\n",
       "      <td>0</td>\n",
       "    </tr>\n",
       "    <tr>\n",
       "      <th>1</th>\n",
       "      <td>12.0</td>\n",
       "      <td>4.2</td>\n",
       "      <td>30</td>\n",
       "      <td>21.5</td>\n",
       "      <td>13</td>\n",
       "      <td>0</td>\n",
       "      <td>0</td>\n",
       "      <td>0</td>\n",
       "      <td>0</td>\n",
       "      <td>0</td>\n",
       "    </tr>\n",
       "    <tr>\n",
       "      <th>2</th>\n",
       "      <td>11.2</td>\n",
       "      <td>5.5</td>\n",
       "      <td>38</td>\n",
       "      <td>21.5</td>\n",
       "      <td>15</td>\n",
       "      <td>0</td>\n",
       "      <td>0</td>\n",
       "      <td>0</td>\n",
       "      <td>0</td>\n",
       "      <td>0</td>\n",
       "    </tr>\n",
       "  </tbody>\n",
       "</table>\n",
       "</div>"
      ],
      "text/plain": [
       "   distance  consume  speed  temp_inside  temp_outside  AC  rain  sun  snow  \\\n",
       "0      28.0      5.0     26         21.5            12   0     0    0     0   \n",
       "1      12.0      4.2     30         21.5            13   0     0    0     0   \n",
       "2      11.2      5.5     38         21.5            15   0     0    0     0   \n",
       "\n",
       "   gas_type_SP98  \n",
       "0              0  \n",
       "1              0  \n",
       "2              0  "
      ]
     },
     "execution_count": 34,
     "metadata": {},
     "output_type": "execute_result"
    }
   ],
   "source": [
    "consume_data.head(3)"
   ]
  },
  {
   "cell_type": "code",
   "execution_count": 39,
   "metadata": {},
   "outputs": [],
   "source": [
    "consume = {'Minimum': consume_data.consume.min(),\n",
    "          'Maximum': consume_data.consume.max(),\n",
    "          'Mean': consume_data.consume.mean(),\n",
    "          'Median': consume_data.consume.median(),\n",
    "          'Mode': consume_data.consume.mode()}"
   ]
  },
  {
   "cell_type": "code",
   "execution_count": 40,
   "metadata": {},
   "outputs": [
    {
     "data": {
      "text/html": [
       "<div>\n",
       "<style scoped>\n",
       "    .dataframe tbody tr th:only-of-type {\n",
       "        vertical-align: middle;\n",
       "    }\n",
       "\n",
       "    .dataframe tbody tr th {\n",
       "        vertical-align: top;\n",
       "    }\n",
       "\n",
       "    .dataframe thead th {\n",
       "        text-align: right;\n",
       "    }\n",
       "</style>\n",
       "<table border=\"1\" class=\"dataframe\">\n",
       "  <thead>\n",
       "    <tr style=\"text-align: right;\">\n",
       "      <th></th>\n",
       "      <th>Minimum</th>\n",
       "      <th>Maximum</th>\n",
       "      <th>Mean</th>\n",
       "      <th>Median</th>\n",
       "      <th>Mode</th>\n",
       "    </tr>\n",
       "  </thead>\n",
       "  <tbody>\n",
       "    <tr>\n",
       "      <th>Consume</th>\n",
       "      <td>3.3</td>\n",
       "      <td>12.2</td>\n",
       "      <td>4.925266</td>\n",
       "      <td>4.7</td>\n",
       "      <td>4.5</td>\n",
       "    </tr>\n",
       "  </tbody>\n",
       "</table>\n",
       "</div>"
      ],
      "text/plain": [
       "         Minimum  Maximum      Mean  Median  Mode\n",
       "Consume      3.3     12.2  4.925266     4.7   4.5"
      ]
     },
     "execution_count": 40,
     "metadata": {},
     "output_type": "execute_result"
    }
   ],
   "source": [
    "consume_descr = pd.DataFrame(consume) \n",
    "consume_descr = consume_descr.rename(index={0:'Consume'})\n",
    "consume_descr"
   ]
  },
  {
   "cell_type": "code",
   "execution_count": 41,
   "metadata": {},
   "outputs": [
    {
     "data": {
      "text/plain": [
       "<AxesSubplot:xlabel='consume', ylabel='Count'>"
      ]
     },
     "execution_count": 41,
     "metadata": {},
     "output_type": "execute_result"
    },
    {
     "data": {
      "image/png": "[encoded data removed]",
      "text/plain": [
       "<Figure size 432x288 with 1 Axes>"
      ]
     },
     "metadata": {
      "needs_background": "light"
     },
     "output_type": "display_data"
    }
   ],
   "source": [
    "sns.histplot(x='consume', data=consume_data)"
   ]
  },
  {
   "cell_type": "code",
   "execution_count": 36,
   "metadata": {},
   "outputs": [],
   "source": [
    "corr_matrix = consume_data.corr()"
   ]
  },
  {
   "cell_type": "code",
   "execution_count": 37,
   "metadata": {},
   "outputs": [
    {
     "data": {
      "text/html": [
       "<div>\n",
       "<style scoped>\n",
       "    .dataframe tbody tr th:only-of-type {\n",
       "        vertical-align: middle;\n",
       "    }\n",
       "\n",
       "    .dataframe tbody tr th {\n",
       "        vertical-align: top;\n",
       "    }\n",
       "\n",
       "    .dataframe thead th {\n",
       "        text-align: right;\n",
       "    }\n",
       "</style>\n",
       "<table border=\"1\" class=\"dataframe\">\n",
       "  <thead>\n",
       "    <tr style=\"text-align: right;\">\n",
       "      <th></th>\n",
       "      <th>distance</th>\n",
       "      <th>consume</th>\n",
       "      <th>speed</th>\n",
       "      <th>temp_inside</th>\n",
       "      <th>temp_outside</th>\n",
       "      <th>AC</th>\n",
       "      <th>rain</th>\n",
       "      <th>sun</th>\n",
       "      <th>snow</th>\n",
       "      <th>gas_type_SP98</th>\n",
       "    </tr>\n",
       "  </thead>\n",
       "  <tbody>\n",
       "    <tr>\n",
       "      <th>distance</th>\n",
       "      <td>1.000000</td>\n",
       "      <td>-0.131379</td>\n",
       "      <td>0.565505</td>\n",
       "      <td>0.075305</td>\n",
       "      <td>0.086774</td>\n",
       "      <td>0.019030</td>\n",
       "      <td>-0.030784</td>\n",
       "      <td>0.078627</td>\n",
       "      <td>-0.034428</td>\n",
       "      <td>-0.047877</td>\n",
       "    </tr>\n",
       "    <tr>\n",
       "      <th>consume</th>\n",
       "      <td>-0.131379</td>\n",
       "      <td>1.000000</td>\n",
       "      <td>-0.234537</td>\n",
       "      <td>-0.161991</td>\n",
       "      <td>-0.318758</td>\n",
       "      <td>0.089472</td>\n",
       "      <td>0.251756</td>\n",
       "      <td>-0.169173</td>\n",
       "      <td>0.072308</td>\n",
       "      <td>-0.020928</td>\n",
       "    </tr>\n",
       "    <tr>\n",
       "      <th>speed</th>\n",
       "      <td>0.565505</td>\n",
       "      <td>-0.234537</td>\n",
       "      <td>1.000000</td>\n",
       "      <td>0.059725</td>\n",
       "      <td>0.019327</td>\n",
       "      <td>-0.024485</td>\n",
       "      <td>-0.004173</td>\n",
       "      <td>0.077181</td>\n",
       "      <td>0.032500</td>\n",
       "      <td>-0.099495</td>\n",
       "    </tr>\n",
       "    <tr>\n",
       "      <th>temp_inside</th>\n",
       "      <td>0.075305</td>\n",
       "      <td>-0.161991</td>\n",
       "      <td>0.059725</td>\n",
       "      <td>1.000000</td>\n",
       "      <td>0.361308</td>\n",
       "      <td>0.313197</td>\n",
       "      <td>-0.038269</td>\n",
       "      <td>0.246120</td>\n",
       "      <td>0.097156</td>\n",
       "      <td>0.010340</td>\n",
       "    </tr>\n",
       "    <tr>\n",
       "      <th>temp_outside</th>\n",
       "      <td>0.086774</td>\n",
       "      <td>-0.318758</td>\n",
       "      <td>0.019327</td>\n",
       "      <td>0.361308</td>\n",
       "      <td>1.000000</td>\n",
       "      <td>0.180096</td>\n",
       "      <td>-0.184763</td>\n",
       "      <td>0.349988</td>\n",
       "      <td>-0.162948</td>\n",
       "      <td>0.156990</td>\n",
       "    </tr>\n",
       "    <tr>\n",
       "      <th>AC</th>\n",
       "      <td>0.019030</td>\n",
       "      <td>0.089472</td>\n",
       "      <td>-0.024485</td>\n",
       "      <td>0.313197</td>\n",
       "      <td>0.180096</td>\n",
       "      <td>1.000000</td>\n",
       "      <td>0.242197</td>\n",
       "      <td>0.085928</td>\n",
       "      <td>0.063170</td>\n",
       "      <td>0.096943</td>\n",
       "    </tr>\n",
       "    <tr>\n",
       "      <th>rain</th>\n",
       "      <td>-0.030784</td>\n",
       "      <td>0.251756</td>\n",
       "      <td>-0.004173</td>\n",
       "      <td>-0.038269</td>\n",
       "      <td>-0.184763</td>\n",
       "      <td>0.242197</td>\n",
       "      <td>1.000000</td>\n",
       "      <td>-0.111916</td>\n",
       "      <td>0.277739</td>\n",
       "      <td>0.052789</td>\n",
       "    </tr>\n",
       "    <tr>\n",
       "      <th>sun</th>\n",
       "      <td>0.078627</td>\n",
       "      <td>-0.169173</td>\n",
       "      <td>0.077181</td>\n",
       "      <td>0.246120</td>\n",
       "      <td>0.349988</td>\n",
       "      <td>0.085928</td>\n",
       "      <td>-0.111916</td>\n",
       "      <td>1.000000</td>\n",
       "      <td>-0.031083</td>\n",
       "      <td>0.038120</td>\n",
       "    </tr>\n",
       "    <tr>\n",
       "      <th>snow</th>\n",
       "      <td>-0.034428</td>\n",
       "      <td>0.072308</td>\n",
       "      <td>0.032500</td>\n",
       "      <td>0.097156</td>\n",
       "      <td>-0.162948</td>\n",
       "      <td>0.063170</td>\n",
       "      <td>0.277739</td>\n",
       "      <td>-0.031083</td>\n",
       "      <td>1.000000</td>\n",
       "      <td>0.035231</td>\n",
       "    </tr>\n",
       "    <tr>\n",
       "      <th>gas_type_SP98</th>\n",
       "      <td>-0.047877</td>\n",
       "      <td>-0.020928</td>\n",
       "      <td>-0.099495</td>\n",
       "      <td>0.010340</td>\n",
       "      <td>0.156990</td>\n",
       "      <td>0.096943</td>\n",
       "      <td>0.052789</td>\n",
       "      <td>0.038120</td>\n",
       "      <td>0.035231</td>\n",
       "      <td>1.000000</td>\n",
       "    </tr>\n",
       "  </tbody>\n",
       "</table>\n",
       "</div>"
      ],
      "text/plain": [
       "               distance   consume     speed  temp_inside  temp_outside  \\\n",
       "distance       1.000000 -0.131379  0.565505     0.075305      0.086774   \n",
       "consume       -0.131379  1.000000 -0.234537    -0.161991     -0.318758   \n",
       "speed          0.565505 -0.234537  1.000000     0.059725      0.019327   \n",
       "temp_inside    0.075305 -0.161991  0.059725     1.000000      0.361308   \n",
       "temp_outside   0.086774 -0.318758  0.019327     0.361308      1.000000   \n",
       "AC             0.019030  0.089472 -0.024485     0.313197      0.180096   \n",
       "rain          -0.030784  0.251756 -0.004173    -0.038269     -0.184763   \n",
       "sun            0.078627 -0.169173  0.077181     0.246120      0.349988   \n",
       "snow          -0.034428  0.072308  0.032500     0.097156     -0.162948   \n",
       "gas_type_SP98 -0.047877 -0.020928 -0.099495     0.010340      0.156990   \n",
       "\n",
       "                     AC      rain       sun      snow  gas_type_SP98  \n",
       "distance       0.019030 -0.030784  0.078627 -0.034428      -0.047877  \n",
       "consume        0.089472  0.251756 -0.169173  0.072308      -0.020928  \n",
       "speed         -0.024485 -0.004173  0.077181  0.032500      -0.099495  \n",
       "temp_inside    0.313197 -0.038269  0.246120  0.097156       0.010340  \n",
       "temp_outside   0.180096 -0.184763  0.349988 -0.162948       0.156990  \n",
       "AC             1.000000  0.242197  0.085928  0.063170       0.096943  \n",
       "rain           0.242197  1.000000 -0.111916  0.277739       0.052789  \n",
       "sun            0.085928 -0.111916  1.000000 -0.031083       0.038120  \n",
       "snow           0.063170  0.277739 -0.031083  1.000000       0.035231  \n",
       "gas_type_SP98  0.096943  0.052789  0.038120  0.035231       1.000000  "
      ]
     },
     "execution_count": 37,
     "metadata": {},
     "output_type": "execute_result"
    }
   ],
   "source": [
    "corr_matrix"
   ]
  },
  {
   "cell_type": "code",
   "execution_count": 38,
   "metadata": {},
   "outputs": [
    {
     "data": {
      "image/png": "[encoded data removed]",
      "text/plain": [
       "<Figure size 432x288 with 2 Axes>"
      ]
     },
     "metadata": {
      "needs_background": "light"
     },
     "output_type": "display_data"
    }
   ],
   "source": [
    "mascara = np.triu(np.ones_like(corr_matrix, dtype=bool))\n",
    "color_map = sns.diverging_palette(0, 10, as_cmap=True) \n",
    "\n",
    "sns.heatmap(corr_matrix, \n",
    "            mask=mascara,\n",
    "            cmap=\"viridis\",\n",
    "            vmax=1,\n",
    "            vmin=-1,\n",
    "            square=True, \n",
    "            linewidth=.5, \n",
    "            cbar_kws={\"shrink\": .5} \n",
    ");"
   ]
  },
  {
   "cell_type": "markdown",
   "metadata": {},
   "source": [
    "#### El consumo esta mayormente correlacionado con temp_outside (negativamente), rain (positivamente), speed (negativamente), sun (negativamente), temp_inside (negativamente)"
   ]
  },
  {
   "cell_type": "markdown",
   "metadata": {},
   "source": [
    "#### CONSUME VS GAS_TYPE"
   ]
  },
  {
   "cell_type": "code",
   "execution_count": 60,
   "metadata": {},
   "outputs": [
    {
     "data": {
      "text/html": [
       "<div>\n",
       "<style scoped>\n",
       "    .dataframe tbody tr th:only-of-type {\n",
       "        vertical-align: middle;\n",
       "    }\n",
       "\n",
       "    .dataframe tbody tr th {\n",
       "        vertical-align: top;\n",
       "    }\n",
       "\n",
       "    .dataframe thead th {\n",
       "        text-align: right;\n",
       "    }\n",
       "</style>\n",
       "<table border=\"1\" class=\"dataframe\">\n",
       "  <thead>\n",
       "    <tr style=\"text-align: right;\">\n",
       "      <th></th>\n",
       "      <th>consume</th>\n",
       "    </tr>\n",
       "    <tr>\n",
       "      <th>gas_type_SP98</th>\n",
       "      <th></th>\n",
       "    </tr>\n",
       "  </thead>\n",
       "  <tbody>\n",
       "    <tr>\n",
       "      <th>0</th>\n",
       "      <td>4.950955</td>\n",
       "    </tr>\n",
       "    <tr>\n",
       "      <th>1</th>\n",
       "      <td>4.906849</td>\n",
       "    </tr>\n",
       "  </tbody>\n",
       "</table>\n",
       "</div>"
      ],
      "text/plain": [
       "                consume\n",
       "gas_type_SP98          \n",
       "0              4.950955\n",
       "1              4.906849"
      ]
     },
     "execution_count": 60,
     "metadata": {},
     "output_type": "execute_result"
    }
   ],
   "source": [
    "gtype_gr = consume_data.groupby('gas_type_SP98').agg({'consume': 'mean'})\n",
    "gtype_gr"
   ]
  },
  {
   "cell_type": "code",
   "execution_count": 44,
   "metadata": {
    "scrolled": false
   },
   "outputs": [
    {
     "data": {
      "text/plain": [
       "<AxesSubplot:xlabel='consume', ylabel='gas_type_SP98'>"
      ]
     },
     "execution_count": 44,
     "metadata": {},
     "output_type": "execute_result"
    },
    {
     "data": {
      "image/png": "[encoded data removed]",
      "text/plain": [
       "<Figure size 432x288 with 1 Axes>"
      ]
     },
     "metadata": {
      "needs_background": "light"
     },
     "output_type": "display_data"
    }
   ],
   "source": [
    "sns.scatterplot(x=consume_data.consume, y=consume_data.gas_type_SP98)"
   ]
  },
  {
   "cell_type": "markdown",
   "metadata": {},
   "source": [
    "#### CONSUME VS AC"
   ]
  },
  {
   "cell_type": "code",
   "execution_count": 61,
   "metadata": {},
   "outputs": [
    {
     "data": {
      "text/html": [
       "<div>\n",
       "<style scoped>\n",
       "    .dataframe tbody tr th:only-of-type {\n",
       "        vertical-align: middle;\n",
       "    }\n",
       "\n",
       "    .dataframe tbody tr th {\n",
       "        vertical-align: top;\n",
       "    }\n",
       "\n",
       "    .dataframe thead th {\n",
       "        text-align: right;\n",
       "    }\n",
       "</style>\n",
       "<table border=\"1\" class=\"dataframe\">\n",
       "  <thead>\n",
       "    <tr style=\"text-align: right;\">\n",
       "      <th></th>\n",
       "      <th>consume</th>\n",
       "    </tr>\n",
       "    <tr>\n",
       "      <th>AC</th>\n",
       "      <th></th>\n",
       "    </tr>\n",
       "  </thead>\n",
       "  <tbody>\n",
       "    <tr>\n",
       "      <th>0</th>\n",
       "      <td>4.897391</td>\n",
       "    </tr>\n",
       "    <tr>\n",
       "      <th>1</th>\n",
       "      <td>5.235484</td>\n",
       "    </tr>\n",
       "  </tbody>\n",
       "</table>\n",
       "</div>"
      ],
      "text/plain": [
       "     consume\n",
       "AC          \n",
       "0   4.897391\n",
       "1   5.235484"
      ]
     },
     "execution_count": 61,
     "metadata": {},
     "output_type": "execute_result"
    }
   ],
   "source": [
    "ac_group = consume_data.groupby('AC').agg({'consume': 'mean'})\n",
    "ac_group"
   ]
  },
  {
   "cell_type": "markdown",
   "metadata": {},
   "source": [
    "#### CONSUME VS RAIN"
   ]
  },
  {
   "cell_type": "code",
   "execution_count": 66,
   "metadata": {},
   "outputs": [
    {
     "data": {
      "text/html": [
       "<div>\n",
       "<style scoped>\n",
       "    .dataframe tbody tr th:only-of-type {\n",
       "        vertical-align: middle;\n",
       "    }\n",
       "\n",
       "    .dataframe tbody tr th {\n",
       "        vertical-align: top;\n",
       "    }\n",
       "\n",
       "    .dataframe thead th {\n",
       "        text-align: right;\n",
       "    }\n",
       "</style>\n",
       "<table border=\"1\" class=\"dataframe\">\n",
       "  <thead>\n",
       "    <tr style=\"text-align: right;\">\n",
       "      <th></th>\n",
       "      <th>consume</th>\n",
       "    </tr>\n",
       "    <tr>\n",
       "      <th>rain</th>\n",
       "      <th></th>\n",
       "    </tr>\n",
       "  </thead>\n",
       "  <tbody>\n",
       "    <tr>\n",
       "      <th>0</th>\n",
       "      <td>4.827576</td>\n",
       "    </tr>\n",
       "    <tr>\n",
       "      <th>1</th>\n",
       "      <td>5.626087</td>\n",
       "    </tr>\n",
       "  </tbody>\n",
       "</table>\n",
       "</div>"
      ],
      "text/plain": [
       "       consume\n",
       "rain          \n",
       "0     4.827576\n",
       "1     5.626087"
      ]
     },
     "execution_count": 66,
     "metadata": {},
     "output_type": "execute_result"
    }
   ],
   "source": [
    "rain_gr = consume_data.groupby('rain').agg({'consume': 'mean'})\n",
    "rain_gr"
   ]
  },
  {
   "cell_type": "markdown",
   "metadata": {},
   "source": [
    "### CONSUME COST"
   ]
  },
  {
   "cell_type": "code",
   "execution_count": 84,
   "metadata": {},
   "outputs": [],
   "source": [
    "def price(x):\n",
    "    E10_price = 1.379\n",
    "    SP98_price = 1.459\n",
    "    if x == 0:\n",
    "        return E10_price\n",
    "    else:\n",
    "        return SP98_price"
   ]
  },
  {
   "cell_type": "code",
   "execution_count": 85,
   "metadata": {},
   "outputs": [],
   "source": [
    "consume_data['price'] = consume_data.gas_type_SP98.apply(price)"
   ]
  },
  {
   "cell_type": "code",
   "execution_count": 86,
   "metadata": {},
   "outputs": [],
   "source": [
    "consume_data['cost_per_distance'] =(((consume_data.consume)/100) * (consume_data.distance)) * consume_data.price "
   ]
  },
  {
   "cell_type": "code",
   "execution_count": 87,
   "metadata": {},
   "outputs": [
    {
     "data": {
      "text/html": [
       "<div>\n",
       "<style scoped>\n",
       "    .dataframe tbody tr th:only-of-type {\n",
       "        vertical-align: middle;\n",
       "    }\n",
       "\n",
       "    .dataframe tbody tr th {\n",
       "        vertical-align: top;\n",
       "    }\n",
       "\n",
       "    .dataframe thead th {\n",
       "        text-align: right;\n",
       "    }\n",
       "</style>\n",
       "<table border=\"1\" class=\"dataframe\">\n",
       "  <thead>\n",
       "    <tr style=\"text-align: right;\">\n",
       "      <th></th>\n",
       "      <th>distance</th>\n",
       "      <th>consume</th>\n",
       "      <th>speed</th>\n",
       "      <th>temp_inside</th>\n",
       "      <th>temp_outside</th>\n",
       "      <th>AC</th>\n",
       "      <th>rain</th>\n",
       "      <th>sun</th>\n",
       "      <th>snow</th>\n",
       "      <th>gas_type_SP98</th>\n",
       "      <th>price</th>\n",
       "      <th>cost_per_distance</th>\n",
       "    </tr>\n",
       "  </thead>\n",
       "  <tbody>\n",
       "    <tr>\n",
       "      <th>0</th>\n",
       "      <td>28.0</td>\n",
       "      <td>5.0</td>\n",
       "      <td>26</td>\n",
       "      <td>21.5</td>\n",
       "      <td>12</td>\n",
       "      <td>0</td>\n",
       "      <td>0</td>\n",
       "      <td>0</td>\n",
       "      <td>0</td>\n",
       "      <td>0</td>\n",
       "      <td>1.379</td>\n",
       "      <td>1.930600</td>\n",
       "    </tr>\n",
       "    <tr>\n",
       "      <th>1</th>\n",
       "      <td>12.0</td>\n",
       "      <td>4.2</td>\n",
       "      <td>30</td>\n",
       "      <td>21.5</td>\n",
       "      <td>13</td>\n",
       "      <td>0</td>\n",
       "      <td>0</td>\n",
       "      <td>0</td>\n",
       "      <td>0</td>\n",
       "      <td>0</td>\n",
       "      <td>1.379</td>\n",
       "      <td>0.695016</td>\n",
       "    </tr>\n",
       "    <tr>\n",
       "      <th>2</th>\n",
       "      <td>11.2</td>\n",
       "      <td>5.5</td>\n",
       "      <td>38</td>\n",
       "      <td>21.5</td>\n",
       "      <td>15</td>\n",
       "      <td>0</td>\n",
       "      <td>0</td>\n",
       "      <td>0</td>\n",
       "      <td>0</td>\n",
       "      <td>0</td>\n",
       "      <td>1.379</td>\n",
       "      <td>0.849464</td>\n",
       "    </tr>\n",
       "  </tbody>\n",
       "</table>\n",
       "</div>"
      ],
      "text/plain": [
       "   distance  consume  speed  temp_inside  temp_outside  AC  rain  sun  snow  \\\n",
       "0      28.0      5.0     26         21.5            12   0     0    0     0   \n",
       "1      12.0      4.2     30         21.5            13   0     0    0     0   \n",
       "2      11.2      5.5     38         21.5            15   0     0    0     0   \n",
       "\n",
       "   gas_type_SP98  price  cost_per_distance  \n",
       "0              0  1.379           1.930600  \n",
       "1              0  1.379           0.695016  \n",
       "2              0  1.379           0.849464  "
      ]
     },
     "execution_count": 87,
     "metadata": {},
     "output_type": "execute_result"
    }
   ],
   "source": [
    "consume_data.gro"
   ]
  },
  {
   "cell_type": "code",
   "execution_count": 93,
   "metadata": {},
   "outputs": [
    {
     "data": {
      "text/html": [
       "<div>\n",
       "<style scoped>\n",
       "    .dataframe tbody tr th:only-of-type {\n",
       "        vertical-align: middle;\n",
       "    }\n",
       "\n",
       "    .dataframe tbody tr th {\n",
       "        vertical-align: top;\n",
       "    }\n",
       "\n",
       "    .dataframe thead th {\n",
       "        text-align: right;\n",
       "    }\n",
       "</style>\n",
       "<table border=\"1\" class=\"dataframe\">\n",
       "  <thead>\n",
       "    <tr style=\"text-align: right;\">\n",
       "      <th></th>\n",
       "      <th>cost_per_distance</th>\n",
       "      <th>distance</th>\n",
       "    </tr>\n",
       "    <tr>\n",
       "      <th>gas_type_SP98</th>\n",
       "      <th></th>\n",
       "      <th></th>\n",
       "    </tr>\n",
       "  </thead>\n",
       "  <tbody>\n",
       "    <tr>\n",
       "      <th>0</th>\n",
       "      <td>1.396125</td>\n",
       "      <td>21.095541</td>\n",
       "    </tr>\n",
       "    <tr>\n",
       "      <th>1</th>\n",
       "      <td>1.305041</td>\n",
       "      <td>18.866667</td>\n",
       "    </tr>\n",
       "  </tbody>\n",
       "</table>\n",
       "</div>"
      ],
      "text/plain": [
       "               cost_per_distance   distance\n",
       "gas_type_SP98                              \n",
       "0                       1.396125  21.095541\n",
       "1                       1.305041  18.866667"
      ]
     },
     "execution_count": 93,
     "metadata": {},
     "output_type": "execute_result"
    }
   ],
   "source": [
    "price_gr = consume_data.groupby('gas_type_SP98').agg({'cost_per_distance': 'mean', 'distance': 'mean'})\n",
    "price_gr"
   ]
  },
  {
   "cell_type": "markdown",
   "metadata": {},
   "source": [
    "### REGRESSION ANALYSIS"
   ]
  },
  {
   "cell_type": "code",
   "execution_count": 94,
   "metadata": {},
   "outputs": [],
   "source": [
    "X = consume_data.drop(columns=['consume', 'price', 'cost_per_distance'])"
   ]
  },
  {
   "cell_type": "code",
   "execution_count": 95,
   "metadata": {},
   "outputs": [],
   "source": [
    "y = consume_data.consume"
   ]
  },
  {
   "cell_type": "code",
   "execution_count": 100,
   "metadata": {},
   "outputs": [],
   "source": [
    "linear_model = sm.OLS(y,X)"
   ]
  },
  {
   "cell_type": "code",
   "execution_count": 101,
   "metadata": {},
   "outputs": [],
   "source": [
    "results = linear_model.fit()"
   ]
  },
  {
   "cell_type": "code",
   "execution_count": 102,
   "metadata": {},
   "outputs": [
    {
     "data": {
      "text/html": [
       "<table class=\"simpletable\">\n",
       "<caption>OLS Regression Results</caption>\n",
       "<tr>\n",
       "  <th>Dep. Variable:</th>         <td>consume</td>     <th>  R-squared (uncentered):</th>      <td>   0.962</td> \n",
       "</tr>\n",
       "<tr>\n",
       "  <th>Model:</th>                   <td>OLS</td>       <th>  Adj. R-squared (uncentered):</th> <td>   0.961</td> \n",
       "</tr>\n",
       "<tr>\n",
       "  <th>Method:</th>             <td>Least Squares</td>  <th>  F-statistic:       </th>          <td>   1041.</td> \n",
       "</tr>\n",
       "<tr>\n",
       "  <th>Date:</th>             <td>Thu, 14 Oct 2021</td> <th>  Prob (F-statistic):</th>          <td>3.68e-255</td>\n",
       "</tr>\n",
       "<tr>\n",
       "  <th>Time:</th>                 <td>14:06:14</td>     <th>  Log-Likelihood:    </th>          <td> -524.89</td> \n",
       "</tr>\n",
       "<tr>\n",
       "  <th>No. Observations:</th>      <td>   376</td>      <th>  AIC:               </th>          <td>   1068.</td> \n",
       "</tr>\n",
       "<tr>\n",
       "  <th>Df Residuals:</th>          <td>   367</td>      <th>  BIC:               </th>          <td>   1103.</td> \n",
       "</tr>\n",
       "<tr>\n",
       "  <th>Df Model:</th>              <td>     9</td>      <th>                     </th>              <td> </td>    \n",
       "</tr>\n",
       "<tr>\n",
       "  <th>Covariance Type:</th>      <td>nonrobust</td>    <th>                     </th>              <td> </td>    \n",
       "</tr>\n",
       "</table>\n",
       "<table class=\"simpletable\">\n",
       "<tr>\n",
       "        <td></td>           <th>coef</th>     <th>std err</th>      <th>t</th>      <th>P>|t|</th>  <th>[0.025</th>    <th>0.975]</th>  \n",
       "</tr>\n",
       "<tr>\n",
       "  <th>distance</th>      <td>    0.0007</td> <td>    0.003</td> <td>    0.241</td> <td> 0.810</td> <td>   -0.005</td> <td>    0.006</td>\n",
       "</tr>\n",
       "<tr>\n",
       "  <th>speed</th>         <td>   -0.0154</td> <td>    0.005</td> <td>   -3.397</td> <td> 0.001</td> <td>   -0.024</td> <td>   -0.006</td>\n",
       "</tr>\n",
       "<tr>\n",
       "  <th>temp_inside</th>   <td>    0.2756</td> <td>    0.010</td> <td>   28.897</td> <td> 0.000</td> <td>    0.257</td> <td>    0.294</td>\n",
       "</tr>\n",
       "<tr>\n",
       "  <th>temp_outside</th>  <td>   -0.0509</td> <td>    0.008</td> <td>   -6.121</td> <td> 0.000</td> <td>   -0.067</td> <td>   -0.035</td>\n",
       "</tr>\n",
       "<tr>\n",
       "  <th>AC</th>            <td>    0.0981</td> <td>    0.197</td> <td>    0.497</td> <td> 0.619</td> <td>   -0.290</td> <td>    0.486</td>\n",
       "</tr>\n",
       "<tr>\n",
       "  <th>rain</th>          <td>    0.6467</td> <td>    0.171</td> <td>    3.791</td> <td> 0.000</td> <td>    0.311</td> <td>    0.982</td>\n",
       "</tr>\n",
       "<tr>\n",
       "  <th>sun</th>           <td>   -0.2943</td> <td>    0.199</td> <td>   -1.481</td> <td> 0.140</td> <td>   -0.685</td> <td>    0.097</td>\n",
       "</tr>\n",
       "<tr>\n",
       "  <th>snow</th>          <td>   -0.6379</td> <td>    0.524</td> <td>   -1.218</td> <td> 0.224</td> <td>   -1.667</td> <td>    0.392</td>\n",
       "</tr>\n",
       "<tr>\n",
       "  <th>gas_type_SP98</th> <td>    0.0371</td> <td>    0.105</td> <td>    0.352</td> <td> 0.725</td> <td>   -0.170</td> <td>    0.244</td>\n",
       "</tr>\n",
       "</table>\n",
       "<table class=\"simpletable\">\n",
       "<tr>\n",
       "  <th>Omnibus:</th>       <td>250.941</td> <th>  Durbin-Watson:     </th> <td>   1.924</td>\n",
       "</tr>\n",
       "<tr>\n",
       "  <th>Prob(Omnibus):</th> <td> 0.000</td>  <th>  Jarque-Bera (JB):  </th> <td>3120.675</td>\n",
       "</tr>\n",
       "<tr>\n",
       "  <th>Skew:</th>          <td> 2.663</td>  <th>  Prob(JB):          </th> <td>    0.00</td>\n",
       "</tr>\n",
       "<tr>\n",
       "  <th>Kurtosis:</th>      <td>16.070</td>  <th>  Cond. No.          </th> <td>    573.</td>\n",
       "</tr>\n",
       "</table><br/><br/>Notes:<br/>[1] R² is computed without centering (uncentered) since the model does not contain a constant.<br/>[2] Standard Errors assume that the covariance matrix of the errors is correctly specified."
      ],
      "text/plain": [
       "<class 'statsmodels.iolib.summary.Summary'>\n",
       "\"\"\"\n",
       "                                 OLS Regression Results                                \n",
       "=======================================================================================\n",
       "Dep. Variable:                consume   R-squared (uncentered):                   0.962\n",
       "Model:                            OLS   Adj. R-squared (uncentered):              0.961\n",
       "Method:                 Least Squares   F-statistic:                              1041.\n",
       "Date:                Thu, 14 Oct 2021   Prob (F-statistic):                   3.68e-255\n",
       "Time:                        14:06:14   Log-Likelihood:                         -524.89\n",
       "No. Observations:                 376   AIC:                                      1068.\n",
       "Df Residuals:                     367   BIC:                                      1103.\n",
       "Df Model:                           9                                                  \n",
       "Covariance Type:            nonrobust                                                  \n",
       "=================================================================================\n",
       "                    coef    std err          t      P>|t|      [0.025      0.975]\n",
       "---------------------------------------------------------------------------------\n",
       "distance          0.0007      0.003      0.241      0.810      -0.005       0.006\n",
       "speed            -0.0154      0.005     -3.397      0.001      -0.024      -0.006\n",
       "temp_inside       0.2756      0.010     28.897      0.000       0.257       0.294\n",
       "temp_outside     -0.0509      0.008     -6.121      0.000      -0.067      -0.035\n",
       "AC                0.0981      0.197      0.497      0.619      -0.290       0.486\n",
       "rain              0.6467      0.171      3.791      0.000       0.311       0.982\n",
       "sun              -0.2943      0.199     -1.481      0.140      -0.685       0.097\n",
       "snow             -0.6379      0.524     -1.218      0.224      -1.667       0.392\n",
       "gas_type_SP98     0.0371      0.105      0.352      0.725      -0.170       0.244\n",
       "==============================================================================\n",
       "Omnibus:                      250.941   Durbin-Watson:                   1.924\n",
       "Prob(Omnibus):                  0.000   Jarque-Bera (JB):             3120.675\n",
       "Skew:                           2.663   Prob(JB):                         0.00\n",
       "Kurtosis:                      16.070   Cond. No.                         573.\n",
       "==============================================================================\n",
       "\n",
       "Notes:\n",
       "[1] R² is computed without centering (uncentered) since the model does not contain a constant.\n",
       "[2] Standard Errors assume that the covariance matrix of the errors is correctly specified.\n",
       "\"\"\""
      ]
     },
     "execution_count": 102,
     "metadata": {},
     "output_type": "execute_result"
    }
   ],
   "source": [
    "results.summary()"
   ]
  },
  {
   "cell_type": "code",
   "execution_count": null,
   "metadata": {},
   "outputs": [],
   "source": []
  }
 ],
 "metadata": {
  "kernelspec": {
   "display_name": "ironcon",
   "language": "python",
   "name": "ironcon"
  },
  "language_info": {
   "codemirror_mode": {
    "name": "ipython",
    "version": 3
   },
   "file_extension": ".py",
   "mimetype": "text/x-python",
   "name": "python",
   "nbconvert_exporter": "python",
   "pygments_lexer": "ipython3",
   "version": "3.8.11"
  }
 },
 "nbformat": 4,
 "nbformat_minor": 4
}
